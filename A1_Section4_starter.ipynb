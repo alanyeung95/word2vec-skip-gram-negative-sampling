{
  "cells": [
    {
      "cell_type": "markdown",
      "source": [
        "ref:\n",
        "1. https://www.heywhale.com/mw/project/5d1c0d221951a9002c88742c\n",
        "2. original paper implementation: https://blog.csdn.net/weixin_40759186/article/details/87857361\n",
        "3. https://medium.com/analytics-vidhya/pytorch-for-deep-learning-binary-classification-logistic-regression-382abd97fb43\n",
        "4. https://zhuanlan.zhihu.com/p/275899732\n",
        "5. https://zhuanlan.zhihu.com/p/352496522\n",
        "6. https://github.com/DSKSD/DeepNLP-models-Pytorch/blob/master/notebooks/02.Skip-gram-Negative-Sampling.ipynb\n",
        "\n",
        "paper:\n",
        "1. https://naturale0.github.io/2021/02/08/understanding-skip-gram\n",
        "\n"
      ],
      "metadata": {
        "id": "qnVrp5cXd8US"
      },
      "id": "qnVrp5cXd8US"
    },
    {
      "cell_type": "code",
      "source": [
        "import torch\n",
        "#device = torch.device('cuda' if torch.cuda.is_available() else 'cpu')\n",
        "#USE_CUDA = torch.cuda.is_available()\n",
        "#gpus = [0]\n",
        "#torch.cuda.set_device(gpus[0])\n",
        "USE_CUDA = False\n",
        "if USE_CUDA:\n",
        "    print(\"using cuda\")\n",
        "else:\n",
        "    print(\"not using cuda\")"
      ],
      "metadata": {
        "colab": {
          "base_uri": "https://localhost:8080/"
        },
        "id": "BDFsULwZIx6F",
        "outputId": "32e3f00f-87ac-4536-9fe6-00de41957a61"
      },
      "id": "BDFsULwZIx6F",
      "execution_count": 3,
      "outputs": [
        {
          "output_type": "stream",
          "name": "stdout",
          "text": [
            "not using cuda\n"
          ]
        }
      ]
    },
    {
      "cell_type": "code",
      "execution_count": 4,
      "id": "dca90ff2",
      "metadata": {
        "colab": {
          "base_uri": "https://localhost:8080/"
        },
        "id": "dca90ff2",
        "outputId": "ef74feae-b29c-4b2f-f55e-a31af92bb7c2"
      },
      "outputs": [
        {
          "output_type": "stream",
          "name": "stderr",
          "text": [
            "/usr/local/lib/python3.8/dist-packages/torch/cuda/__init__.py:497: UserWarning: Can't initialize NVML\n",
            "  warnings.warn(\"Can't initialize NVML\")\n",
            "[nltk_data] Downloading package punkt to /root/nltk_data...\n",
            "[nltk_data]   Unzipping tokenizers/punkt.zip.\n"
          ]
        },
        {
          "output_type": "execute_result",
          "data": {
            "text/plain": [
              "True"
            ]
          },
          "metadata": {},
          "execution_count": 4
        }
      ],
      "source": [
        "%matplotlib inline\n",
        "import matplotlib.pyplot as pltBCELoss\n",
        "from collections import Counter\n",
        "import numpy as np\n",
        "from nltk.tokenize import sent_tokenize\n",
        "import time\n",
        "import torch\n",
        "import spacy\n",
        "from pathlib import Path\n",
        "from sklearn.model_selection import train_test_split\n",
        "import torch.nn.functional as F\n",
        "\n",
        "import nltk\n",
        "nltk.download('punkt')\n"
      ]
    },
    {
      "cell_type": "code",
      "execution_count": 5,
      "id": "3e4a260a",
      "metadata": {
        "id": "3e4a260a"
      },
      "outputs": [],
      "source": [
        "# prepare text using the both the nltk sentence tokenizer (https://www.nltk.org/api/nltk.tokenize.html)\n",
        "# AND the spacy english pipeline (see https://spacy.io/models/en)\n",
        "\n",
        "\n",
        "def prepare_texts(text, min_frequency=3):\n",
        "    \n",
        "    # Get a callable object from spacy that processes the text - lemmatizes and determines part of speech\n",
        "\n",
        "    nlp = spacy.load(\"en_core_web_sm\")\n",
        "    \n",
        "    # Some text cleaning. Do it by sentence, and eliminate punctuation.\n",
        "    lemmas = []\n",
        "    for sent in sent_tokenize(text):  # sent_tokenize separates the sentences \n",
        "        for tok in nlp(sent):         # nlp processes as in Part III\n",
        "            if tok.pos_ not in [\"PUNCT\", \"SPACE\", \"SYM\", \"NUM\", \"X\"] and tok.lemma_ not in \"[]|.,/?'\\\"+-=\":\n",
        "                lemmas.append(tok.lemma_)\n",
        "    \n",
        "    # Count the frequency of each lemmatized word\n",
        "    freqs = Counter()  # word -> occurrence\n",
        "    for w in lemmas:\n",
        "        freqs[w] += 1\n",
        "        \n",
        "    vocab = list(freqs.items())  # List of (word, occurrence)\n",
        "    vocab = sorted(vocab, key=lambda item: item[1], reverse=True)  # Sort by decreasing frequency\n",
        "    \n",
        "    # per Mikolov, don't use the infrequent words, as there isn't much to learn in that case\n",
        "    \n",
        "    frequent_vocab = list(filter(lambda item: item[1]>=min_frequency, vocab))\n",
        "    \n",
        "    # Create the dictionaries to go from word to index or vice-verse\n",
        "    \n",
        "    w2i = {w[0]:i for i,w in enumerate(frequent_vocab)}\n",
        "    i2w = {i:w[0] for i,w in enumerate(frequent_vocab)}\n",
        "    \n",
        "    # Create an Out Of Vocabulary (oov) token as well\n",
        "    w2i[\"<oov>\"] = len(frequent_vocab)\n",
        "    i2w[len(frequent_vocab)] = \"<oov>\"\n",
        "    \n",
        "    # Set all of the words not included in vocabulary nuas oov\n",
        "    filtered_lemmas = []\n",
        "    for lem in lemmas:\n",
        "        if lem not in w2i:\n",
        "            filtered_lemmas.append(\"<oov>\")\n",
        "        else:\n",
        "            filtered_lemmas.append(lem)\n",
        "    \n",
        "    return filtered_lemmas, w2i, i2w"
      ]
    },
    {
      "cell_type": "markdown",
      "id": "5ac56a6e",
      "metadata": {
        "id": "5ac56a6e"
      },
      "source": [
        "### tokenize_and_preprocess_text creates the training samples for the model. It walks through each word in the corpus, and looks at a window (of size 'window') of words and creates input/output prediction pairs.  We need both positive (in window) samples and negative (out of window) samples."
      ]
    },
    {
      "cell_type": "code",
      "execution_count": 6,
      "id": "058ba40e",
      "metadata": {
        "id": "058ba40e"
      },
      "outputs": [],
      "source": [
        "def tokenize_and_preprocess_text(textlist, w2i, window):\n",
        "    \"\"\"\n",
        "    Skip-gram negative sampling: Predict if the target word is in the context.\n",
        "    Uses binary prediction so we need both positive and negative samples\n",
        "    \"\"\"\n",
        "    X, T, Y = [], [], []\n",
        "    \n",
        "    # Tokenize the input\n",
        "    \n",
        "    # TO DO\n",
        "    tokenize = [w2i[w] for w in textlist]\n",
        "    target_word =  [x[0] for x in Counter(textlist).most_common()][20:450]\n",
        "    target_token =  [w2i[w] for w in target_word]   \n",
        "    dict = {}\n",
        "\n",
        "\n",
        "    # Loop through each token\n",
        "    \n",
        "    # TO DO\n",
        "    import random\n",
        "\n",
        "    half_window = window//2\n",
        "    for i, token in enumerate(tokenize):\n",
        "        if  token not in target_token:\n",
        "            continue\n",
        "\n",
        "        for j in range(i-half_window, i+half_window+1):\n",
        "            if j >= 0 and j< len(textlist) and j != i:\n",
        "                if tokenize[j] not in target_token:\n",
        "                  continue                 \n",
        "                else:\n",
        "                    X.append(token)\n",
        "                    T.append(tokenize[j])\n",
        "                    Y.append(1)  \n",
        "\n",
        "                    X.append(token)\n",
        "                    randomToken = random.randrange(len(tokenize))\n",
        "                    T.append(tokenize[randomToken])\n",
        "                    Y.append(0)\n",
        "\n",
        "                    dict[token] = dict.get(token, 0) + 2\n",
        "                    dict[tokenize[j]] = dict.get(tokenize[j], 0) + 1\n",
        "                    dict[tokenize[randomToken]] = dict.get(tokenize[randomToken], 0) + 1                    \n",
        "    return X, T, Y"
      ]
    },
    {
      "cell_type": "markdown",
      "id": "b7b12f50",
      "metadata": {
        "id": "b7b12f50"
      },
      "source": [
        "## Define Model that will be trained to produce word vectors"
      ]
    },
    {
      "cell_type": "code",
      "execution_count": 7,
      "id": "91b381df",
      "metadata": {
        "id": "91b381df"
      },
      "outputs": [],
      "source": [
        "class SkipGramNegativeSampling(torch.nn.Module):\n",
        "    def __init__(self, vocab_size, embedding_size):\n",
        "        super().__init__()\n",
        "        \n",
        "        # TO DO\n",
        "        self.embedding = torch.nn.Embedding(vocab_size, embedding_size)\n",
        "        self.sigmoid = torch.nn.Sigmoid()\n",
        "\n",
        "\n",
        "    def forward(self, x, t):\n",
        "        # x: torch.tensor of shape (batch_size), context word\n",
        "        # t: torch.tensor of shape (batch_size), target (\"output\") word.\n",
        "\n",
        "        # TO DO\n",
        "        #prediction = torch.dot(self.embedding.weight[x], self.embedding.weight[t])\n",
        "        prediction = torch.matmul(self.embedding(x), self.embedding(t).t()).diag()\n",
        "       \n",
        "        return prediction"
      ]
    },
    {
      "cell_type": "markdown",
      "id": "0af2d1a1",
      "metadata": {
        "id": "0af2d1a1"
      },
      "source": [
        "#### The training function - give it the text and it does the rest"
      ]
    },
    {
      "cell_type": "code",
      "execution_count": 8,
      "id": "203a43fe",
      "metadata": {
        "id": "203a43fe"
      },
      "outputs": [],
      "source": [
        "def train_sgns(textlist, window, embedding_size, w2i, i2w):\n",
        "    # Set up a model with Skip-gram with negative sampling (predict context with word)\n",
        "    # textlist: a list of strings\n",
        "    \n",
        "    # Create Training Data \n",
        "    #filtered_lemmas, w2i, i2w = prepare_texts(textlist)\n",
        "    X, T, Y = tokenize_and_preprocess_text(textlist, w2i, window)\n",
        "    print(\"training data size %d\" % (len(X)))\n",
        "\n",
        "    # Split the training data\n",
        "    train_set_size = int(len(Y) * 0.8)\n",
        "    valid_set_size = len(Y) - train_set_size    \n",
        "    train_dataset, test_dataset = torch.utils.data.random_split(list(zip(X, T, Y)), [train_set_size, valid_set_size]) \n",
        "    bs = 4      \n",
        "\n",
        "    # instantiate the network & set up the optimizer\n",
        "    network = SkipGramNegativeSampling(len(w2i), embedding_size)\n",
        "    if USE_CUDA:\n",
        "        network = network.cuda()    \n",
        "    #network.to(device)\n",
        "    \n",
        "    optimizer = torch.optim.Adam(network.parameters(), lr=0.001)\n",
        "    #loss_function = torch.nn.BCELoss()\n",
        "    loss_function = torch.nn.BCEWithLogitsLoss()\n",
        "    #loss_function = torch.nn.NLLLoss()\n",
        "    train_acc_list = []\n",
        "    test_acc_list = []\n",
        "\n",
        "    for epoch in range(30):\n",
        "        train_dl = torch.utils.data.DataLoader(train_dataset, batch_size=bs)\n",
        "\n",
        "        total_loss = 0\n",
        "        start = time.time()\n",
        "\n",
        "        train_correct = 0\n",
        "        train_total = 0\n",
        "        for batch in train_dl:\n",
        "            network.zero_grad()\n",
        "\n",
        "            train_X, train_T, train_Y = batch[0], batch[1], batch[2]\n",
        "\n",
        "            if USE_CUDA:\n",
        "                outputs = network(torch.tensor(train_X).cuda(), torch.tensor(train_T).cuda())\n",
        "                loss = loss_function(outputs, torch.tensor(train_Y, dtype=torch.float).cuda())                   \n",
        "            else:          \n",
        "                outputs = network(train_X, train_T)\n",
        "                loss = loss_function(outputs, torch.tensor(train_Y, dtype=torch.float))\n",
        "\n",
        "            for i, output in enumerate(outputs):\n",
        "                if (output >= 0.5 and train_Y[i] == 1) or (output < 0.5 and train_Y[i] == 0):\n",
        "                    train_correct += 1\n",
        "                train_total += 1\n",
        "\n",
        "            total_loss += loss\n",
        "            loss.backward()\n",
        "            optimizer.step()   \n",
        "        end = time.time()\n",
        "\n",
        "        test_correct = 0\n",
        "        test_total = 0\n",
        "        test_dl = torch.utils.data.DataLoader(test_dataset, batch_size=bs)\n",
        "        for batch in test_dl:\n",
        "\n",
        "            test_X, test_T, test_Y = batch[0], batch[1], batch[2]\n",
        "            outputs = network(test_X, test_T)\n",
        "\n",
        "            for i, output in enumerate(outputs):\n",
        "                if (output >= 0.5 and test_Y[i] == 1) or (output < 0.5 and test_Y[i] == 0):\n",
        "                    test_correct += 1\n",
        "                test_total += 1\n",
        "\n",
        "        train_acc_list.append(train_correct/train_total)\n",
        "        test_acc_list.append(test_correct/test_total)\n",
        "\n",
        "        print(\"loss: %d, training acc %f, testing acc %f,  pass time: %d\" % (total_loss, train_correct/train_total, test_correct/test_total, end - start))\n",
        "\n",
        "    import matplotlib.pyplot as plt\n",
        "    from matplotlib.pyplot import figure\n",
        "\n",
        "    figure(figsize=(12, 5), dpi=80)\n",
        "\n",
        "    plt.plot(train_acc_list, label='training accuracy')\n",
        "    plt.plot(test_acc_list, label='testing accuracy')\n",
        "\n",
        "    plt.xlabel('epoch')\n",
        "    plt.ylabel('accuracy')\n",
        "    plt.legend()  \n",
        "    plt.show()\n",
        "\n",
        "    return network"
      ]
    },
    {
      "cell_type": "markdown",
      "id": "e962cbc3",
      "metadata": {
        "id": "e962cbc3"
      },
      "source": [
        "### Run Training and retrieve embedding"
      ]
    },
    {
      "cell_type": "code",
      "source": [
        "from pathlib import Path\n",
        "txt = Path('LargerCorpus.txt').read_text()\n",
        "filtered_lemmas, w2i, i2w = prepare_texts(txt)\n",
        "print(Counter(filtered_lemmas).most_common(30))"
      ],
      "metadata": {
        "colab": {
          "base_uri": "https://localhost:8080/"
        },
        "id": "2Fc5oLCBAWAt",
        "outputId": "ff0dda35-b900-4859-9453-2ac6e4b26edf"
      },
      "id": "2Fc5oLCBAWAt",
      "execution_count": 9,
      "outputs": [
        {
          "output_type": "stream",
          "name": "stdout",
          "text": [
            "[('<oov>', 5915), ('the', 5047), ('of', 3438), ('be', 2283), ('and', 1943), ('in', 1588), ('to', 1379), ('a', 1226), ('for', 531), ('as', 518), ('by', 493), ('he', 483), ('with', 471), ('coin', 417), ('this', 387), ('on', 377), ('his', 368), ('which', 346), ('at', 334), ('it', 332), ('from', 326), ('have', 321), ('that', 310), ('or', 309), ('an', 272), ('Mint', 250), ('same', 247), ('no', 246), ('silver', 211), ('Mr.', 211)]\n"
          ]
        }
      ]
    },
    {
      "cell_type": "code",
      "source": [
        "print(\"-------------\")\n",
        "print(filtered_lemmas[0:50])\n",
        "print(list(w2i.keys())[:200])\n",
        "print(list(i2w.keys())[:200])\n",
        "\n",
        "network = train_sgns(filtered_lemmas, 5, 8, w2i, i2w)\n",
        "embedding = network.embedding"
      ],
      "metadata": {
        "colab": {
          "base_uri": "https://localhost:8080/",
          "height": 1000
        },
        "id": "vTwFYfo8mPP2",
        "outputId": "0a2c2f96-6139-4f21-b72c-3879ad9eb88c"
      },
      "id": "vTwFYfo8mPP2",
      "execution_count": 10,
      "outputs": [
        {
          "output_type": "stream",
          "name": "stdout",
          "text": [
            "-------------\n",
            "['introduction', 'money', 'of', 'the', 'past', 'and', '<oov>', 'the', 'need', 'of', 'a', 'circulate', 'medium', 'of', 'exchange', 'have', 'be', 'acknowledge', 'since', 'the', 'early', 'age', 'of', 'man', 'in', 'the', '<oov>', 'day', '<oov>', 'be', 'the', 'foundation', 'of', 'commercial', '<oov>', 'between', 'the', 'various', '<oov>', 'but', 'this', 'give', 'way', 'in', 'time', 'as', 'exchange', 'increase', 'in', 'the']\n",
            "['the', 'of', 'be', 'and', 'in', 'to', 'a', 'for', 'as', 'by', 'he', 'with', 'coin', 'this', 'on', 'his', 'which', 'at', 'it', 'from', 'have', 'that', 'or', 'an', 'Mint', 'same', 'no', 'silver', 'Mr.', 'gold', 'year', 'upon', 'dollar', 'not', 'States', 'make', 'but', 'work', 'they', 'United', 'cent', 'all', 'weight', 'head', 'its', 'piece', 'other', 'use', 'I', '’s', 'coinage', 'you', 'value', 'first', 'their', 'half', 'issue', 'grain', '_', 'reverse', 'some', 'any', 'New', 'star', 'metal', 'Philadelphia', 'CENT', 'these', 'Act', 'will', 'time', 'Gutenberg', 'Project', 'who', 'eagle', 'after', 'die', 'right', 'money', 'about', 'when', 'large', 'there', 'appoint', 'into', 'legend', 'inclusive', 'bear', 'very', 'date', 'take', 'Obverse', 'only', 'may', 'law', 'great', 'we', 'also', 'small', 'standard', 'part', 'office', 'than', 'size', 'present', 'place', 'so', 'each', 'above', 'assay', 'term', 'old', 'know', 'under', 'change', 'follow', 'if', 'Silver', 'officer', 'during', 'face', 'most', 'tm', 'our', 'see', 'day', 'mint', 'Washington', 'fine', 'obverse', 'more', 'can', 'liberty', 'many', 'edge', 'President', 'do', 'give', 'country', 'then', 'Congress', 'January', 'Dudley', 'without', 'S.', 'copper', 'left', 'C.', 'receive', 'July', 'illustration', 'until', 'such', 'say', 'well', 'April', 'York', 'type', 'every', 'find', 'UNITED', 'STATES', 'room', 'B.', 'per', 'side', 'Gold', 'good', 'medal', 'hand', 'case', 'shield', 'Director', 'branch', 'man', 'public', 'end', 'through', 'amount', 'D.', 'deposit', 'much', 'leave', 'bullion', 'inscribe', 'bring', 'form', 'would', 'send', 'Cabinet', 'new', 'shall', 'Dr.', 'mark', 'over', 'service', 'none', 'arrow', 'history', 'copy']\n",
            "[0, 1, 2, 3, 4, 5, 6, 7, 8, 9, 10, 11, 12, 13, 14, 15, 16, 17, 18, 19, 20, 21, 22, 23, 24, 25, 26, 27, 28, 29, 30, 31, 32, 33, 34, 35, 36, 37, 38, 39, 40, 41, 42, 43, 44, 45, 46, 47, 48, 49, 50, 51, 52, 53, 54, 55, 56, 57, 58, 59, 60, 61, 62, 63, 64, 65, 66, 67, 68, 69, 70, 71, 72, 73, 74, 75, 76, 77, 78, 79, 80, 81, 82, 83, 84, 85, 86, 87, 88, 89, 90, 91, 92, 93, 94, 95, 96, 97, 98, 99, 100, 101, 102, 103, 104, 105, 106, 107, 108, 109, 110, 111, 112, 113, 114, 115, 116, 117, 118, 119, 120, 121, 122, 123, 124, 125, 126, 127, 128, 129, 130, 131, 132, 133, 134, 135, 136, 137, 138, 139, 140, 141, 142, 143, 144, 145, 146, 147, 148, 149, 150, 151, 152, 153, 154, 155, 156, 157, 158, 159, 160, 161, 162, 163, 164, 165, 166, 167, 168, 169, 170, 171, 172, 173, 174, 175, 176, 177, 178, 179, 180, 181, 182, 183, 184, 185, 186, 187, 188, 189, 190, 191, 192, 193, 194, 195, 196, 197, 198, 199]\n",
            "training data size 60724\n"
          ]
        },
        {
          "output_type": "stream",
          "name": "stderr",
          "text": [
            "<ipython-input-8-f79a8f996553>:47: UserWarning: To copy construct from a tensor, it is recommended to use sourceTensor.clone().detach() or sourceTensor.clone().detach().requires_grad_(True), rather than torch.tensor(sourceTensor).\n",
            "  loss = loss_function(outputs, torch.tensor(train_Y, dtype=torch.float))\n"
          ]
        },
        {
          "output_type": "stream",
          "name": "stdout",
          "text": [
            "loss: 12079, training acc 0.539636, testing acc 0.589708,  pass time: 11\n",
            "loss: 8257, training acc 0.646946, testing acc 0.693619,  pass time: 11\n",
            "loss: 6291, training acc 0.748142, testing acc 0.768794,  pass time: 12\n",
            "loss: 5318, training acc 0.800758, testing acc 0.793166,  pass time: 11\n",
            "loss: 4880, training acc 0.822145, testing acc 0.801564,  pass time: 12\n",
            "loss: 4613, training acc 0.834085, testing acc 0.804693,  pass time: 11\n",
            "loss: 4414, training acc 0.842010, testing acc 0.809387,  pass time: 11\n",
            "loss: 4253, training acc 0.848268, testing acc 0.810869,  pass time: 15\n",
            "loss: 4120, training acc 0.852755, testing acc 0.813668,  pass time: 11\n",
            "loss: 4007, training acc 0.858190, testing acc 0.815644,  pass time: 11\n",
            "loss: 3911, training acc 0.862060, testing acc 0.814986,  pass time: 11\n",
            "loss: 3827, training acc 0.864756, testing acc 0.818691,  pass time: 12\n",
            "loss: 3754, training acc 0.867062, testing acc 0.817785,  pass time: 12\n",
            "loss: 3690, training acc 0.868956, testing acc 0.819020,  pass time: 11\n",
            "loss: 3633, training acc 0.871241, testing acc 0.820667,  pass time: 12\n",
            "loss: 3581, training acc 0.873320, testing acc 0.821408,  pass time: 11\n",
            "loss: 3536, training acc 0.874740, testing acc 0.820173,  pass time: 11\n",
            "loss: 3494, training acc 0.876202, testing acc 0.822067,  pass time: 11\n",
            "loss: 3457, training acc 0.877087, testing acc 0.822067,  pass time: 12\n",
            "loss: 3423, training acc 0.878281, testing acc 0.822231,  pass time: 12\n",
            "loss: 3391, training acc 0.879331, testing acc 0.821902,  pass time: 11\n",
            "loss: 3363, training acc 0.879948, testing acc 0.821573,  pass time: 12\n",
            "loss: 3337, training acc 0.880874, testing acc 0.821490,  pass time: 11\n",
            "loss: 3312, training acc 0.881842, testing acc 0.821161,  pass time: 12\n",
            "loss: 3290, training acc 0.882974, testing acc 0.819679,  pass time: 11\n",
            "loss: 3270, training acc 0.884559, testing acc 0.820173,  pass time: 11\n",
            "loss: 3250, training acc 0.885341, testing acc 0.820585,  pass time: 12\n",
            "loss: 3233, training acc 0.886062, testing acc 0.821490,  pass time: 11\n",
            "loss: 3216, training acc 0.886556, testing acc 0.820996,  pass time: 12\n",
            "loss: 3201, training acc 0.886700, testing acc 0.819926,  pass time: 11\n"
          ]
        },
        {
          "output_type": "display_data",
          "data": {
            "text/plain": [
              "<Figure size 960x400 with 1 Axes>"
            ],
            "image/png": "[encoded data removed]"
          },
          "metadata": {
            "needs_background": "light"
          }
        }
      ]
    },
    {
      "cell_type": "code",
      "source": [
        "print(embedding.weight)\n",
        "print(embedding.weight.shape)"
      ],
      "metadata": {
        "colab": {
          "base_uri": "https://localhost:8080/"
        },
        "id": "NCA_M4a3kYfE",
        "outputId": "735d81c7-dcbb-4e5a-c38e-1f902a78a9ee"
      },
      "id": "NCA_M4a3kYfE",
      "execution_count": 11,
      "outputs": [
        {
          "output_type": "stream",
          "name": "stdout",
          "text": [
            "Parameter containing:\n",
            "tensor([[ 7.6026, -6.2995,  2.3524,  ...,  7.0148,  1.3901, -7.4198],\n",
            "        [ 7.7760, -6.2499,  2.5278,  ...,  6.9197,  1.2211, -7.6557],\n",
            "        [ 6.8884, -5.3807,  2.1789,  ...,  6.0350,  1.1414, -6.7891],\n",
            "        ...,\n",
            "        [-1.7445,  1.3203, -0.2115,  ...,  0.5601,  1.0873, -0.2234],\n",
            "        [ 1.9146, -1.3860,  2.9537,  ..., -0.4948,  1.0601,  1.0890],\n",
            "        [ 8.4557, -6.6240,  2.7695,  ...,  7.6706,  1.5470, -8.1726]],\n",
            "       requires_grad=True)\n",
            "torch.Size([2560, 8])\n"
          ]
        }
      ]
    },
    {
      "cell_type": "markdown",
      "id": "00d41f77",
      "metadata": {
        "id": "00d41f77"
      },
      "source": [
        "### Reduce the Dimensionality of Embeddings and Display"
      ]
    },
    {
      "cell_type": "code",
      "execution_count": 19,
      "id": "5f4edc22",
      "metadata": {
        "colab": {
          "base_uri": "https://localhost:8080/",
          "height": 963
        },
        "id": "5f4edc22",
        "outputId": "e3e231e6-8c5b-42d2-f274-f7be6615fc5a"
      },
      "outputs": [
        {
          "output_type": "stream",
          "name": "stdout",
          "text": [
            "Visualizing the 20 to 80 most frequent words\n"
          ]
        },
        {
          "output_type": "display_data",
          "data": {
            "text/plain": [
              "<Figure size 1800x1080 with 1 Axes>"
            ],
            "image/png": "[encoded data removed]"
          },
          "metadata": {
            "needs_background": "light"
          }
        }
      ],
      "source": [
        "from sklearn.decomposition import PCA #see https://towardsdatascience.com/pca-using-python-scikit-learn-e653f8989e60\n",
        "\n",
        "def visualize_embedding(embedding, most_frequent_from=20, most_frequent_to=80):\n",
        "    print (\"Visualizing the {} to {} most frequent words\".format(most_frequent_from, most_frequent_to))\n",
        "    \n",
        "    # since the embeddings are ordered from most frequent words to least frequent, \n",
        "    # we can easily select a sub range of the most frequent words:\n",
        "    \n",
        "    selected_words = embedding[most_frequent_from:most_frequent_to, :]\n",
        "    # The function below will reduce a vector to 2 principle components\n",
        "    \n",
        "    pca = PCA(n_components=2)\n",
        "    \n",
        "    # Transform the selected embeddings to have 2 dimensions\n",
        "    \n",
        "    embeddings = pca.fit_transform(selected_words)\n",
        "    \n",
        "    # Plot the the reduced embeddings - a point and the word itself\n",
        "    \n",
        "    # TO DO\n",
        "    import matplotlib.pyplot as plt\n",
        "    from matplotlib.pyplot import figure\n",
        "\n",
        "    fig, ax = plt.subplots()\n",
        "    fig.set_figheight(15)\n",
        "    fig.set_figwidth(25)\n",
        "\n",
        "    for index, embedding in enumerate(embeddings):\n",
        "        ax.annotate(i2w[index+most_frequent_from], (embedding[0], embedding[1]))\n",
        "        \n",
        "    plt.xlim([-3,3])\n",
        "    plt.ylim([-3,3])\n",
        "    plt.xlabel('x')\n",
        "    plt.ylabel('y')\n",
        "\n",
        "    plt.show()\n",
        "\n",
        "visualize_embedding(embedding.weight.detach().numpy(), most_frequent_from=20, most_frequent_to=80)\n",
        "\n"
      ]
    }
  ],
  "metadata": {
    "kernelspec": {
      "display_name": "Python 3 (ipykernel)",
      "language": "python",
      "name": "python3"
    },
    "language_info": {
      "codemirror_mode": {
        "name": "ipython",
        "version": 3
      },
      "file_extension": ".py",
      "mimetype": "text/x-python",
      "name": "python",
      "nbconvert_exporter": "python",
      "pygments_lexer": "ipython3",
      "version": "3.7.13"
    },
    "colab": {
      "provenance": []
    },
    "accelerator": "GPU",
    "gpuClass": "standard"
  },
  "nbformat": 4,
  "nbformat_minor": 5
}